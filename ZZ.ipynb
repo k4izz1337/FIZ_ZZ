{
  "metadata": {
    "kernelspec": {
      "name": "python",
      "display_name": "Python (Pyodide)",
      "language": "python"
    },
    "language_info": {
      "codemirror_mode": {
        "name": "python",
        "version": 3
      },
      "file_extension": ".py",
      "mimetype": "text/x-python",
      "name": "python",
      "nbconvert_exporter": "python",
      "pygments_lexer": "ipython3",
      "version": "3.8"
    }
  },
  "nbformat_minor": 4,
  "nbformat": 4,
  "cells": [
    {
      "cell_type": "code",
      "source": "import sympy as sp\nfrom scipy.constants import hbar\nfrom scipy.constants import h",
      "metadata": {
        "trusted": true
      },
      "outputs": [],
      "execution_count": 1
    },
    {
      "cell_type": "code",
      "source": "# Inicjalizacja wyświetlania równań w formie czytelnej\nsp.init_printing()",
      "metadata": {
        "trusted": true
      },
      "outputs": [],
      "execution_count": 2
    },
    {
      "cell_type": "code",
      "source": "# Definicja symboli i funkcji\nx = sp.Symbol('x', real=True)  # Pozycja\nk = sp.Symbol('k', real=True, positive=True)  # Wektor falowy\nd = sp.Symbol('d', real=True)  # Szerokość studni\nm = sp.Symbol('m', real=True, positive=True)  # Masa cząstki\nt = sp.Symbol('t', real=True, positive=True)  # Czas\nn = sp.Symbol('n', integer=True, nonzero=True) # Numer poziomu energetycznego\nhbar = sp.Symbol('hbar', real=True, positive=True) # Stałą zredukowaną Plancka (h-paskowa)\npsi = sp.Function('psi')\nx, k, d, m, t, n, psi(x)",
      "metadata": {
        "trusted": true
      },
      "outputs": [
        {
          "execution_count": 3,
          "output_type": "execute_result",
          "data": {
            "text/plain": "(x, k, d, m, t, n, ψ(x))",
            "text/latex": "$\\displaystyle \\left( x, \\  k, \\  d, \\  m, \\  t, \\  n, \\  \\psi{\\left(x \\right)}\\right)$"
          },
          "metadata": {}
        }
      ],
      "execution_count": 3
    },
    {
      "cell_type": "code",
      "source": "# Równanie Schrödingera dla studni potencjału\neq = sp.Eq(psi(x).diff(x, x), -k**2 * psi(x))",
      "metadata": {
        "trusted": true
      },
      "outputs": [],
      "execution_count": 4
    },
    {
      "cell_type": "code",
      "source": "# Rozwiązanie równania Schrödingera\nsol = sp.dsolve(eq, psi(x), ics={psi(0): 0})\n",
      "metadata": {
        "trusted": true
      },
      "outputs": [],
      "execution_count": 5
    },
    {
      "cell_type": "code",
      "source": "# Podstawienie wartości k dla danego n\nsol = sol.subs(k, n * sp.pi / d)",
      "metadata": {
        "trusted": true
      },
      "outputs": [],
      "execution_count": 6
    },
    {
      "cell_type": "code",
      "source": "# Ustalenie stałej C1 na podstawie warunku początkowego\nsol = sol.subs(sp.Symbol('C1'), sp.sqrt(2 / d))",
      "metadata": {
        "trusted": true
      },
      "outputs": [],
      "execution_count": 7
    },
    {
      "cell_type": "markdown",
      "source": "$$<p>=?$$\n$$<p^2>=?$$\n$$\\sigma_P^2=?$$\n\n$$\\sigma_X \\sigma_P \\geq \\frac{\\hbar}{2}$$\n\n\nSprawdźmy, czy zasada nieoznaczoności jest spełniona dla tej studni potencjału.",
      "metadata": {}
    },
    {
      "cell_type": "code",
      "source": "# Rozwiązanie zadania zintegrowanego",
      "metadata": {
        "trusted": true
      },
      "outputs": [],
      "execution_count": 8
    },
    {
      "cell_type": "code",
      "source": "#1. Pęd\nP=sp.integrate(sol.rhs*-hbar*sp.I*sol.rhs.diff(x),(x,0,d)).simplify()\nPsqu=sp.integrate(sol.rhs * (sol.rhs).diff(x,x)*-hbar**2, (x, 0, d)).simplify()\nsigmaPsqu = Psqu - P**2\nsigmaP = sp.sqrt(sigmaPsqu).simplify()\nP, Psqu, sigmaPsqu, sigmaP",
      "metadata": {
        "trusted": true
      },
      "outputs": [
        {
          "execution_count": 9,
          "output_type": "execute_result",
          "data": {
            "text/plain": "⎛    2  2  2   2  2  2         ⎞\n⎜   π ⋅h̅ ⋅n   π ⋅h̅ ⋅n       │n│⎟\n⎜0, ────────, ────────, π⋅h̅⋅│─│⎟\n⎜       2         2         │d│⎟\n⎝      d         d             ⎠",
            "text/latex": "$\\displaystyle \\left( 0, \\  \\frac{\\pi^{2} \\hbar^{2} n^{2}}{d^{2}}, \\  \\frac{\\pi^{2} \\hbar^{2} n^{2}}{d^{2}}, \\  \\pi \\hbar \\left|{\\frac{n}{d}}\\right|\\right)$"
          },
          "metadata": {}
        }
      ],
      "execution_count": 9
    },
    {
      "cell_type": "code",
      "source": "#2. Obliczenie położenia\nX = sp.integrate(sol.rhs * x * sol.rhs, (x, 0, d)).simplify()\nXsqu = sp.integrate(sol.rhs * x**2 * sol.rhs, (x, 0, d)).simplify()\nsigmaXsqu = Xsqu - X**2\nsigmaX = sp.sqrt(sigmaXsqu)\nX, Xsqu, sigmaXsqu, sigmaX",
      "metadata": {
        "trusted": true
      },
      "outputs": [
        {
          "execution_count": 10,
          "output_type": "execute_result",
          "data": {
            "text/plain": "⎛                                     ______________⎞\n⎜    2       2     2       2         ╱  2       2   ⎟\n⎜d  d       d     d       d         ╱  d       d    ⎟\n⎜─, ── - ───────, ── - ───────,    ╱   ── - ─────── ⎟\n⎜2  3       2  2  12      2  2    ╱    12      2  2 ⎟\n⎝        2⋅π ⋅n        2⋅π ⋅n   ╲╱          2⋅π ⋅n  ⎠",
            "text/latex": "$\\displaystyle \\left( \\frac{d}{2}, \\  \\frac{d^{2}}{3} - \\frac{d^{2}}{2 \\pi^{2} n^{2}}, \\  \\frac{d^{2}}{12} - \\frac{d^{2}}{2 \\pi^{2} n^{2}}, \\  \\sqrt{\\frac{d^{2}}{12} - \\frac{d^{2}}{2 \\pi^{2} n^{2}}}\\right)$"
          },
          "metadata": {}
        }
      ],
      "execution_count": 10
    },
    {
      "cell_type": "code",
      "source": "#3. Sprawdzenie nierówności",
      "metadata": {
        "trusted": true
      },
      "outputs": [],
      "execution_count": 11
    },
    {
      "cell_type": "markdown",
      "source": "$$\\sigma_X \\sigma_P \\geq \\frac{\\hbar}{2}$$",
      "metadata": {}
    },
    {
      "cell_type": "code",
      "source": "spr=sigmaP*sigmaX\nspr.simplify()",
      "metadata": {
        "trusted": true
      },
      "outputs": [
        {
          "execution_count": 12,
          "output_type": "execute_result",
          "data": {
            "text/plain": "     ______________\n    ╱    2  2      \nh̅⋅╲╱  3⋅π ⋅n  - 18 \n───────────────────\n         6         ",
            "text/latex": "$\\displaystyle \\frac{\\hbar \\sqrt{3 \\pi^{2} n^{2} - 18}}{6}$"
          },
          "metadata": {}
        }
      ],
      "execution_count": 12
    },
    {
      "cell_type": "code",
      "source": "#4. Dla minimalnego n: (n=1)\nre=h*sp.sqrt(3*sp.pi**2-18)/6\nresult=h/2\n\nif(re.evalf()>=result):\n    print('Warunek spełniony')\n\nre.evalf(),result",
      "metadata": {
        "trusted": true
      },
      "outputs": [
        {
          "name": "stdout",
          "text": "Warunek spełniony\n",
          "output_type": "stream"
        },
        {
          "execution_count": 13,
          "output_type": "execute_result",
          "data": {
            "text/plain": "(3.76269217787555e-34, 3.313035075e-34)",
            "text/latex": "$\\displaystyle \\left( 3.76269217787555 \\cdot 10^{-34}, \\  3.313035075 \\cdot 10^{-34}\\right)$"
          },
          "metadata": {}
        }
      ],
      "execution_count": 13
    },
    {
      "cell_type": "code",
      "source": "#Sprawdzenie warunku dla najmniejszej wartości - zasada nieoznaczoności jest spełniona.",
      "metadata": {
        "trusted": true
      },
      "outputs": [],
      "execution_count": 14
    }
  ]
}